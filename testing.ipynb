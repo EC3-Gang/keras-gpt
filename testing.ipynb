{
 "cells": [
  {
   "cell_type": "code",
   "execution_count": 1,
   "id": "4dcc7995-ed8e-4fd9-834b-ac5934f751d7",
   "metadata": {},
   "outputs": [
    {
     "name": "stdout",
     "output_type": "stream",
     "text": [
      "Using PyTorch backend.\n"
     ]
    }
   ],
   "source": [
    "import keras_core as keras\n",
    "import torch"
   ]
  },
  {
   "cell_type": "code",
   "execution_count": 2,
   "id": "0b1509f4-5400-4edd-945b-cef19da0912b",
   "metadata": {},
   "outputs": [],
   "source": [
    "class LinearTorch(torch.nn.Module):\n",
    "    def __init__(self, ndim):\n",
    "        super().__init__()\n",
    "        self.w = torch.nn.Parameter(torch.ones(ndim))\n",
    "    def forward(self, x):\n",
    "        return torch.matmul(self.w, x)"
   ]
  },
  {
   "cell_type": "code",
   "execution_count": 3,
   "id": "29330227-9c2e-4394-aadd-82a0ae6ae0eb",
   "metadata": {},
   "outputs": [],
   "source": [
    "class LinearKeras(keras.layers.Layer):\n",
    "    def __init__(self, ndim):\n",
    "        super().__init__()\n",
    "        self.w = self.add_weight(shape=ndim,\n",
    "                                      initializer='ones',\n",
    "                                      trainable=True)\n",
    "    def call(self, x):\n",
    "        return keras.ops.matmul(self.w, x)"
   ]
  },
  {
   "cell_type": "code",
   "execution_count": 4,
   "id": "570b0e8a-bd31-4eb4-b1fd-150b1e4a07d3",
   "metadata": {},
   "outputs": [
    {
     "name": "stdout",
     "output_type": "stream",
     "text": [
      "tensor(3., device='cuda:0', grad_fn=<DotBackward0>)\n",
      "tensor(3., device='cuda:0', grad_fn=<DotBackward0>)\n"
     ]
    }
   ],
   "source": [
    "lt = LinearTorch(3).to(\"cuda\")\n",
    "lk = LinearKeras(3).to(\"cuda\")\n",
    "\n",
    "v1 = torch.ones(3).to(\"cuda\")\n",
    "\n",
    "print(lt(v1))\n",
    "print(lk(v1))\n"
   ]
  }
 ],
 "metadata": {
  "kernelspec": {
   "display_name": "Python 3 (ipykernel)",
   "language": "python",
   "name": "python3"
  },
  "language_info": {
   "codemirror_mode": {
    "name": "ipython",
    "version": 3
   },
   "file_extension": ".py",
   "mimetype": "text/x-python",
   "name": "python",
   "nbconvert_exporter": "python",
   "pygments_lexer": "ipython3",
   "version": "3.9.16"
  }
 },
 "nbformat": 4,
 "nbformat_minor": 5
}
